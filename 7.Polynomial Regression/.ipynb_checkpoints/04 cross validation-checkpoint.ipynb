{
 "cells": [
  {
   "cell_type": "markdown",
   "metadata": {},
   "source": [
    "# 自己简单实现"
   ]
  },
  {
   "cell_type": "code",
   "execution_count": 1,
   "metadata": {},
   "outputs": [],
   "source": [
    "import numpy as np\n",
    "import matplotlib.pyplot as plt"
   ]
  },
  {
   "cell_type": "code",
   "execution_count": 3,
   "metadata": {},
   "outputs": [],
   "source": [
    "from sklearn.preprocessing import PolynomialFeatures   # 增加特征\n",
    "from sklearn.linear_model import LinearRegression\n",
    "from sklearn.model_selection import train_test_split"
   ]
  },
  {
   "cell_type": "code",
   "execution_count": 4,
   "metadata": {},
   "outputs": [
    {
     "data": {
      "image/png": "[encoded data removed]",
      "text/plain": [
       "<Figure size 432x288 with 1 Axes>"
      ]
     },
     "metadata": {},
     "output_type": "display_data"
    }
   ],
   "source": [
    "x = np.linspace(0,10,200)\n",
    "error = np.random.randn(len(x))*31-15\n",
    "y = 5*x*x + 15 + error\n",
    "plt.scatter(x,y)\n",
    "xtr, xt, ytr, yt = train_test_split(x.reshape(-1,1),y)"
   ]
  },
  {
   "cell_type": "code",
   "execution_count": 10,
   "metadata": {},
   "outputs": [
    {
     "data": {
      "text/plain": [
       "(150,)"
      ]
     },
     "execution_count": 10,
     "metadata": {},
     "output_type": "execute_result"
    }
   ],
   "source": [
    "t = np.arange(len(xtr))\n",
    "np.random.shuffle(t)\n",
    "t.shape"
   ]
  },
  {
   "cell_type": "code",
   "execution_count": 19,
   "metadata": {},
   "outputs": [
    {
     "data": {
      "text/plain": [
       "50"
      ]
     },
     "execution_count": 19,
     "metadata": {},
     "output_type": "execute_result"
    }
   ],
   "source": [
    "cutn = int(len(t)/3)\n",
    "cutn"
   ]
  },
  {
   "cell_type": "code",
   "execution_count": 21,
   "metadata": {},
   "outputs": [],
   "source": [
    "tr1 = t[0:2*cutn] \n",
    "ts1 = t[2*cutn:]"
   ]
  },
  {
   "cell_type": "code",
   "execution_count": 24,
   "metadata": {},
   "outputs": [],
   "source": [
    "from sklearn.pipeline import Pipeline\n",
    "from sklearn.preprocessing import StandardScaler\n",
    "poly_reg = Pipeline([\n",
    "    (\"poly\", PolynomialFeatures(degree=3)),\n",
    "    (\"scaling\", StandardScaler()),\n",
    "    (\"linearRegression\", LinearRegression())\n",
    "])"
   ]
  },
  {
   "cell_type": "code",
   "execution_count": 27,
   "metadata": {
    "scrolled": true
   },
   "outputs": [
    {
     "data": {
      "text/plain": [
       "0.9547034639971822"
      ]
     },
     "execution_count": 27,
     "metadata": {},
     "output_type": "execute_result"
    }
   ],
   "source": [
    "poly_reg.fit(xtr[tr1],ytr[tr1])\n",
    "ac1 = poly_reg.score(xtr[ts1],ytr[ts1])\n",
    "ac1"
   ]
  },
  {
   "cell_type": "code",
   "execution_count": 28,
   "metadata": {},
   "outputs": [
    {
     "data": {
      "text/plain": [
       "0.9603503359313219"
      ]
     },
     "execution_count": 28,
     "metadata": {},
     "output_type": "execute_result"
    }
   ],
   "source": [
    "tr2 = t[cutn:] \n",
    "ts2 = t[0:cutn]\n",
    "poly_reg.fit(xtr[tr2],ytr[tr2])\n",
    "ac2 = poly_reg.score(xtr[ts2],ytr[ts2])\n",
    "ac2"
   ]
  },
  {
   "cell_type": "code",
   "execution_count": 32,
   "metadata": {},
   "outputs": [
    {
     "data": {
      "text/plain": [
       "0.9623480691748063"
      ]
     },
     "execution_count": 32,
     "metadata": {},
     "output_type": "execute_result"
    }
   ],
   "source": [
    "tr31 = t[0:cutn]\n",
    "tr32 = t[2*cutn:]\n",
    "tr3 = np.hstack((tr31,tr32))\n",
    "ts3 = t[cutn:2*cutn]\n",
    "poly_reg.fit(xtr[tr3],ytr[tr3])\n",
    "ac3 = poly_reg.score(xtr[ts3],ytr[ts3])\n",
    "ac3"
   ]
  },
  {
   "cell_type": "code",
   "execution_count": 34,
   "metadata": {
    "scrolled": true
   },
   "outputs": [
    {
     "data": {
      "text/plain": [
       "0.9591339563677702"
      ]
     },
     "execution_count": 34,
     "metadata": {},
     "output_type": "execute_result"
    }
   ],
   "source": [
    "ac = np.mean([ac1,ac2,ac3])\n",
    "ac"
   ]
  },
  {
   "cell_type": "markdown",
   "metadata": {},
   "source": [
    "# sklearn"
   ]
  },
  {
   "cell_type": "code",
   "execution_count": 36,
   "metadata": {},
   "outputs": [],
   "source": [
    "from sklearn import datasets"
   ]
  },
  {
   "cell_type": "code",
   "execution_count": 39,
   "metadata": {},
   "outputs": [],
   "source": [
    "digits = datasets.load_digits()\n",
    "xtr, xt, ytr, yt = train_test_split(digits.data,digits.target)"
   ]
  },
  {
   "cell_type": "code",
   "execution_count": 38,
   "metadata": {},
   "outputs": [],
   "source": [
    "from sklearn.neighbors import KNeighborsClassifier"
   ]
  },
  {
   "cell_type": "code",
   "execution_count": 43,
   "metadata": {},
   "outputs": [
    {
     "name": "stdout",
     "output_type": "stream",
     "text": [
      "0.9955555555555555 1 2\n"
     ]
    }
   ],
   "source": [
    "bestk, bestp =  -1,-1\n",
    "bestac = 0\n",
    "for k in range(1,10):\n",
    "    for r in range(1,10):\n",
    "        knn = KNeighborsClassifier(n_neighbors=k,p=r)\n",
    "        knn.fit(xtr,ytr)\n",
    "        ac = knn.score(xt,yt)\n",
    "        if ac>bestac:\n",
    "            bestac, bestk, bestp = ac , k , r\n",
    "print(bestac, bestk,bestp)"
   ]
  },
  {
   "cell_type": "code",
   "execution_count": 44,
   "metadata": {},
   "outputs": [
    {
     "data": {
      "text/plain": [
       "array([0.97560976, 0.98222222, 0.98206278])"
      ]
     },
     "execution_count": 44,
     "metadata": {},
     "output_type": "execute_result"
    }
   ],
   "source": [
    "from sklearn.model_selection import cross_val_score\n",
    "knn2 = KNeighborsClassifier()\n",
    "cross_val_score(knn2,xtr,ytr)"
   ]
  },
  {
   "cell_type": "code",
   "execution_count": null,
   "metadata": {},
   "outputs": [],
   "source": [
    "# 交叉验证 调参"
   ]
  },
  {
   "cell_type": "code",
   "execution_count": null,
   "metadata": {},
   "outputs": [],
   "source": [
    "bestk, bestp =  -1,-1\n",
    "bestac = 0\n",
    "for k in range(1,10):\n",
    "    for r in range(1,10):\n",
    "        knn = KNeighborsClassifier(n_neighbors=k,p=r)\n",
    "        knn.fit(xtr,ytr)\n",
    "        ac = knn.score(xt,yt)\n",
    "        if ac>bestac:\n",
    "            bestac, bestk, bestp = ac , k , r\n",
    "print(bestac, bestk,bestp)"
   ]
  }
 ],
 "metadata": {
  "kernelspec": {
   "display_name": "Python 3",
   "language": "python",
   "name": "python3"
  },
  "language_info": {
   "codemirror_mode": {
    "name": "ipython",
    "version": 3
   },
   "file_extension": ".py",
   "mimetype": "text/x-python",
   "name": "python",
   "nbconvert_exporter": "python",
   "pygments_lexer": "ipython3",
   "version": "3.5.5"
  }
 },
 "nbformat": 4,
 "nbformat_minor": 2
}
