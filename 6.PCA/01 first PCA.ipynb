{
 "cells": [
  {
   "cell_type": "markdown",
   "metadata": {},
   "source": [
    "# 先用固定简单的数字进行处理"
   ]
  },
  {
   "cell_type": "code",
   "execution_count": 71,
   "metadata": {},
   "outputs": [],
   "source": [
    "import numpy as np\n",
    "import matplotlib.pyplot as plt"
   ]
  },
  {
   "cell_type": "code",
   "execution_count": 72,
   "metadata": {},
   "outputs": [
    {
     "name": "stdout",
     "output_type": "stream",
     "text": [
      "[-2. -1.  0.  1.  2.]\n",
      "[-4.08 -2.08  0.12  2.12  3.92]\n"
     ]
    },
    {
     "data": {
      "image/png": "[encoded data removed]",
      "text/plain": [
       "<Figure size 432x288 with 1 Axes>"
      ]
     },
     "metadata": {},
     "output_type": "display_data"
    }
   ],
   "source": [
    "x = np.array([-2,-1,0,1,2])\n",
    "y = np.array([-5.1,-3.1,-0.9,1.1,2.9])\n",
    "xm = np.mean(x)\n",
    "ym = np.mean(y)\n",
    "x = x-xm\n",
    "y = y-ym\n",
    "print(x)\n",
    "print(y)\n",
    "plt.scatter(x,y, color='r')\n",
    "plt.plot(x,[2*xi-1 for xi in x])\n",
    "plt.show()"
   ]
  },
  {
   "cell_type": "code",
   "execution_count": 73,
   "metadata": {},
   "outputs": [],
   "source": [
    "def J(x,theta):\n",
    "    theta = theta/np.linalg.norm(theta)\n",
    "    return x.dot(theta).dot(x.dot(theta))/len(x)"
   ]
  },
  {
   "cell_type": "code",
   "execution_count": 74,
   "metadata": {},
   "outputs": [],
   "source": [
    "def DJ(x, theta):\n",
    "    theta = theta/np.linalg.norm(theta)\n",
    "    return x.dot(theta).T.dot(x)/len(x)"
   ]
  },
  {
   "cell_type": "code",
   "execution_count": 75,
   "metadata": {},
   "outputs": [
    {
     "data": {
      "text/plain": [
       "array([[-2.  , -4.08],\n",
       "       [-1.  , -2.08],\n",
       "       [ 0.  ,  0.12],\n",
       "       [ 1.  ,  2.12],\n",
       "       [ 2.  ,  3.92]])"
      ]
     },
     "execution_count": 75,
     "metadata": {},
     "output_type": "execute_result"
    }
   ],
   "source": [
    "cnt = 0\n",
    "X = np.hstack((x.reshape(-1,1),y.reshape(-1,1)))\n",
    "X"
   ]
  },
  {
   "cell_type": "code",
   "execution_count": 76,
   "metadata": {},
   "outputs": [
    {
     "data": {
      "text/plain": [
       "array([0.44336462, 0.89634135])"
      ]
     },
     "execution_count": 76,
     "metadata": {},
     "output_type": "execute_result"
    }
   ],
   "source": [
    "cnt = 0\n",
    "theta = np.ones(X.shape[1])\n",
    "while cnt < 1000:\n",
    "    dg = DJ(X, theta)\n",
    "    theta += 0.001*dg\n",
    "    theta = theta/np.linalg.norm(theta)\n",
    "    cnt += 1\n",
    "theta"
   ]
  },
  {
   "cell_type": "code",
   "execution_count": 77,
   "metadata": {
    "scrolled": true
   },
   "outputs": [
    {
     "name": "stdout",
     "output_type": "stream",
     "text": [
      "2.021679933861835\n",
      "<class 'numpy.float64'>\n",
      "()\n"
     ]
    },
    {
     "data": {
      "image/png": "[encoded data removed]",
      "text/plain": [
       "<Figure size 432x288 with 1 Axes>"
      ]
     },
     "metadata": {},
     "output_type": "display_data"
    }
   ],
   "source": [
    "plt.scatter(x,y, color='r')\n",
    "k = 1.0*np.max(theta[1]/theta[0])\n",
    "print(k)\n",
    "print(type(k))\n",
    "print(k.shape)\n",
    "xx = np.array( [-2,2] )\n",
    "# 只有 numpy 中存在向量数乘\n",
    "yy = k*xx\n",
    "plt.plot(xx, yy)\n",
    "plt.show()"
   ]
  },
  {
   "cell_type": "code",
   "execution_count": 78,
   "metadata": {},
   "outputs": [
    {
     "data": {
      "text/plain": [
       "array([[ 0.01456101, -0.00720243],\n",
       "       [ 0.02317675, -0.0114641 ],\n",
       "       [-0.04768872,  0.02358866],\n",
       "       [-0.03907299,  0.01932699],\n",
       "       [ 0.04902396, -0.02424912]])"
      ]
     },
     "execution_count": 78,
     "metadata": {},
     "output_type": "execute_result"
    }
   ],
   "source": [
    "X -= (X.dot(theta).reshape(-1,1)).dot(theta.reshape(1,-1)).reshape(X.shape[0],-1)\n",
    "X"
   ]
  },
  {
   "cell_type": "code",
   "execution_count": 79,
   "metadata": {},
   "outputs": [
    {
     "data": {
      "text/plain": [
       "[-2.021679933861687,\n",
       " -2.0216799338618676,\n",
       " -2.0216799338618343,\n",
       " -2.021679933861832,\n",
       " -2.0216799338618996]"
      ]
     },
     "execution_count": 79,
     "metadata": {},
     "output_type": "execute_result"
    }
   ],
   "source": [
    "t = [xi[0]/xi[1] for xi in X]\n",
    "t"
   ]
  },
  {
   "cell_type": "code",
   "execution_count": 91,
   "metadata": {},
   "outputs": [
    {
     "data": {
      "text/plain": [
       "array([ 0.89634139, -0.44336454])"
      ]
     },
     "execution_count": 91,
     "metadata": {},
     "output_type": "execute_result"
    }
   ],
   "source": [
    "cnt = 0\n",
    "theta = np.ones(X.shape[1])\n",
    "while cnt < 1000000:\n",
    "    dg = DJ(X, theta)\n",
    "    theta += 0.01*dg\n",
    "    theta = theta/np.linalg.norm(theta)\n",
    "    cnt += 1\n",
    "theta"
   ]
  },
  {
   "cell_type": "markdown",
   "metadata": {},
   "source": [
    "# test"
   ]
  },
  {
   "cell_type": "code",
   "execution_count": 67,
   "metadata": {},
   "outputs": [
    {
     "data": {
      "text/plain": [
       "array([0.69196235, 0.58757284, 0.41945949])"
      ]
     },
     "execution_count": 67,
     "metadata": {},
     "output_type": "execute_result"
    }
   ],
   "source": [
    "X = np.array([1,2,3])\n",
    "theta = np.random.random(len(X))\n",
    "theta = theta/np.linalg.norm(theta)\n",
    "theta"
   ]
  },
  {
   "cell_type": "code",
   "execution_count": 69,
   "metadata": {},
   "outputs": [
    {
     "data": {
      "text/plain": [
       "array([[-6., -6., -6., -6.],\n",
       "       [-2., -2., -2., -2.],\n",
       "       [ 2.,  2.,  2.,  2.],\n",
       "       [ 6.,  6.,  6.,  6.]])"
      ]
     },
     "execution_count": 69,
     "metadata": {},
     "output_type": "execute_result"
    }
   ],
   "source": [
    "x = np.arange(16, dtype=float).reshape(4,4)\n",
    "x -= np.mean(x,axis=0)\n",
    "x"
   ]
  }
 ],
 "metadata": {
  "kernelspec": {
   "display_name": "Python 3",
   "language": "python",
   "name": "python3"
  },
  "language_info": {
   "codemirror_mode": {
    "name": "ipython",
    "version": 3
   },
   "file_extension": ".py",
   "mimetype": "text/x-python",
   "name": "python",
   "nbconvert_exporter": "python",
   "pygments_lexer": "ipython3",
   "version": "3.5.5"
  }
 },
 "nbformat": 4,
 "nbformat_minor": 2
}
