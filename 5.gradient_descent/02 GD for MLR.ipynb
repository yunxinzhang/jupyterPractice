{
 "cells": [
  {
   "cell_type": "markdown",
   "metadata": {},
   "source": [
    "# easy Gradient Descent"
   ]
  },
  {
   "cell_type": "code",
   "execution_count": 5,
   "metadata": {},
   "outputs": [],
   "source": [
    "from sklearn import datasets\n",
    "import numpy as np\n"
   ]
  },
  {
   "cell_type": "code",
   "execution_count": 64,
   "metadata": {},
   "outputs": [],
   "source": [
    "boston = datasets.load_boston()\n",
    "\n",
    "x = boston.data[:,5].reshape(-1,1)\n",
    "y = boston.target\n",
    "x = x[y<50]\n",
    "y = y[y<50]\n",
    "x = np.array([0,1,2,3]).reshape(-1,1)\n",
    "y = np.array([1,4,7,10])"
   ]
  },
  {
   "cell_type": "code",
   "execution_count": 65,
   "metadata": {},
   "outputs": [
    {
     "data": {
      "text/plain": [
       "(4, 1)"
      ]
     },
     "execution_count": 65,
     "metadata": {},
     "output_type": "execute_result"
    }
   ],
   "source": [
    "x.shape"
   ]
  },
  {
   "cell_type": "code",
   "execution_count": 66,
   "metadata": {},
   "outputs": [
    {
     "data": {
      "text/plain": [
       "array([0., 0.])"
      ]
     },
     "execution_count": 66,
     "metadata": {},
     "output_type": "execute_result"
    }
   ],
   "source": [
    "theta = np.zeros(x.shape[1]+1)\n",
    "theta"
   ]
  },
  {
   "cell_type": "code",
   "execution_count": 39,
   "metadata": {
    "scrolled": true
   },
   "outputs": [],
   "source": [
    "#x = np.hstack((np.ones(len(x)).reshape(-1,1),x ))\n",
    "#x"
   ]
  },
  {
   "cell_type": "code",
   "execution_count": 40,
   "metadata": {},
   "outputs": [],
   "source": [
    "def getG(x, y, theta):\n",
    "    x2 = np.hstack((np.ones(len(x)).reshape(-1,1),x ))\n",
    "    gd = np.zeros(len(theta))\n",
    "    for i in range(x2.shape[1]):\n",
    "        v = 0\n",
    "        for j in range(len(x2)):\n",
    "            v -= (y[j]-x2[j].dot(theta))*x2[j,i]\n",
    "       # print(v,len(x))\n",
    "        gd[i] = v/len(x2)\n",
    "    print(gd)   \n",
    "    return gd"
   ]
  },
  {
   "cell_type": "code",
   "execution_count": 62,
   "metadata": {},
   "outputs": [],
   "source": [
    "def getGbyK( x, y, theta, eps=0.001):\n",
    "        x2 = np.hstack((np.ones(len(x)).reshape(-1,1),x))\n",
    "        gd = np.zeros(x.shape[1]+1)\n",
    "        for i in range(len(theta)):\n",
    "            ta = np.copy(theta)\n",
    "            ta[i] += eps\n",
    "            tb = np.copy(theta)\n",
    "            tb[i] -= eps\n",
    "            gd[i] = (getJ(x2, y, ta) - getJ(x2, y, tb))/2*eps\n",
    "        t = np.max(np.abs(gd))\n",
    "        return gd/(t+1e-9)"
   ]
  },
  {
   "cell_type": "code",
   "execution_count": 44,
   "metadata": {},
   "outputs": [],
   "source": [
    "def getJ(x, y, theta):\n",
    "        return np.sum((y - x.dot(theta))**2)/len(theta)"
   ]
  },
  {
   "cell_type": "code",
   "execution_count": 41,
   "metadata": {
    "scrolled": true
   },
   "outputs": [
    {
     "name": "stdout",
     "output_type": "stream",
     "text": [
      "[ -5.5 -12. ]\n"
     ]
    }
   ],
   "source": [
    "gd = getG(x, y, theta)"
   ]
  },
  {
   "cell_type": "code",
   "execution_count": 67,
   "metadata": {
    "scrolled": true
   },
   "outputs": [
    {
     "data": {
      "text/plain": [
       "array([-0.45832378, -0.99997917])"
      ]
     },
     "execution_count": 67,
     "metadata": {},
     "output_type": "execute_result"
    }
   ],
   "source": [
    "gd2 = getGbyK(x,y,theta)\n",
    "gd2"
   ]
  },
  {
   "cell_type": "code",
   "execution_count": 8,
   "metadata": {},
   "outputs": [
    {
     "data": {
      "text/plain": [
       "array([ -5.5, -12. ])"
      ]
     },
     "execution_count": 8,
     "metadata": {},
     "output_type": "execute_result"
    }
   ],
   "source": [
    "gd"
   ]
  },
  {
   "cell_type": "code",
   "execution_count": 9,
   "metadata": {
    "scrolled": true
   },
   "outputs": [
    {
     "data": {
      "text/plain": [
       "5.5"
      ]
     },
     "execution_count": 9,
     "metadata": {},
     "output_type": "execute_result"
    }
   ],
   "source": [
    "np.mean(y)"
   ]
  },
  {
   "cell_type": "code",
   "execution_count": 68,
   "metadata": {},
   "outputs": [],
   "source": [
    "for i in range(2000):\n",
    "    gd = getGbyK(x,y,theta)\n",
    "    theta -= 0.01*gd"
   ]
  },
  {
   "cell_type": "code",
   "execution_count": 50,
   "metadata": {},
   "outputs": [],
   "source": [
    "import matplotlib.pyplot as plt"
   ]
  },
  {
   "cell_type": "code",
   "execution_count": 69,
   "metadata": {},
   "outputs": [
    {
     "data": {
      "image/png": "[encoded data removed]",
      "text/plain": [
       "<Figure size 432x288 with 1 Axes>"
      ]
     },
     "metadata": {},
     "output_type": "display_data"
    }
   ],
   "source": [
    "plt.scatter(x, y)\n",
    "plt.plot(x, x*theta[1]+theta[0], color='r')\n",
    "plt.show()"
   ]
  },
  {
   "cell_type": "code",
   "execution_count": 13,
   "metadata": {},
   "outputs": [
    {
     "data": {
      "text/plain": [
       "array([1.10074104, 2.95281534])"
      ]
     },
     "execution_count": 13,
     "metadata": {},
     "output_type": "execute_result"
    }
   ],
   "source": [
    "theta"
   ]
  },
  {
   "cell_type": "markdown",
   "metadata": {},
   "source": [
    "# Gradient Descent Classifier"
   ]
  },
  {
   "cell_type": "code",
   "execution_count": 111,
   "metadata": {},
   "outputs": [],
   "source": [
    "%run GD.py"
   ]
  },
  {
   "cell_type": "code",
   "execution_count": 112,
   "metadata": {},
   "outputs": [],
   "source": [
    "gdc = GDCLF()"
   ]
  },
  {
   "cell_type": "code",
   "execution_count": 113,
   "metadata": {},
   "outputs": [],
   "source": [
    "#gdc.fit(x, y)\n",
    "#gdc.theta"
   ]
  },
  {
   "cell_type": "code",
   "execution_count": null,
   "metadata": {},
   "outputs": [],
   "source": []
  },
  {
   "cell_type": "code",
   "execution_count": 114,
   "metadata": {},
   "outputs": [],
   "source": [
    "x = boston.data\n",
    "y = boston.target"
   ]
  },
  {
   "cell_type": "code",
   "execution_count": 115,
   "metadata": {},
   "outputs": [],
   "source": [
    "from sklearn.model_selection import train_test_split\n",
    "xtr, xt, ytr, yt = train_test_split(x, y)"
   ]
  },
  {
   "cell_type": "markdown",
   "metadata": {},
   "source": [
    "# 容易 overflow，没有 scaling的话"
   ]
  },
  {
   "cell_type": "code",
   "execution_count": 46,
   "metadata": {},
   "outputs": [
    {
     "data": {
      "text/plain": [
       "<__main__.GDCLF at 0x120627f4978>"
      ]
     },
     "execution_count": 46,
     "metadata": {},
     "output_type": "execute_result"
    }
   ],
   "source": [
    "gdc.fit(xtr, ytr, alpha= 0.000001, niter=10000)"
   ]
  },
  {
   "cell_type": "code",
   "execution_count": 47,
   "metadata": {},
   "outputs": [],
   "source": [
    "yp = gdc.predict(xt)"
   ]
  },
  {
   "cell_type": "code",
   "execution_count": 48,
   "metadata": {
    "scrolled": true
   },
   "outputs": [
    {
     "data": {
      "text/plain": [
       "array([30.2678107 , 22.35408001, 11.81025451, 19.88554033, 27.63846023,\n",
       "       21.95807897, 25.3799259 , 22.44723864, 34.19747432, 20.83989982,\n",
       "       22.94820426, 23.54348101, 32.71446079, 21.52922778, 26.12758116,\n",
       "       17.98711745, 25.83985856, 24.24681075, 23.1486082 , 33.02719821,\n",
       "       24.02035051, 19.86857711, 28.06117625, 24.99260557,  7.42081432,\n",
       "       22.9265139 , 21.42521167, 23.72083976, 21.76587733, 20.66974409,\n",
       "       24.35531918, 23.4300905 , 24.1792647 , 21.4543431 , 34.02393959,\n",
       "       13.97987396, 27.38441003, 21.33303443, 22.03916704, 23.52228213,\n",
       "        2.5488928 , 21.2090044 , 19.7978919 , 14.56172327, 25.73451926,\n",
       "       19.84157285, 25.68698731, 19.42253347, 21.19208227, 32.37601826,\n",
       "       18.41920611, 25.0386047 , 23.43575878, 16.31153367, 21.55288292,\n",
       "       24.11265357, 26.30281204, 32.35345205, 21.64185551, 25.49710554,\n",
       "        2.0490167 , 28.9526717 , 29.4190974 , 21.30426608, 23.17371776,\n",
       "       18.49799786, 22.8927059 , 23.99341226,  8.27777712, 20.2586117 ,\n",
       "        1.68836045, 22.04535567, 11.87946834, 23.27643613, 22.28445221,\n",
       "       21.29760601, 24.38924633, 24.95860162, 20.76887785, 23.51556323,\n",
       "       23.37105429, 22.2859007 , 22.54489128, 22.78678933, 23.26397796,\n",
       "       30.81055537, 22.85214147, 23.41004147, 21.56310047,  4.18865481,\n",
       "       25.71055312,  6.76042646,  0.76952879, 16.45277928,  2.21720756,\n",
       "       23.66507233, 20.18071955, 22.4917741 , 32.91459379, 22.73790799,\n",
       "       29.19975503, 23.82747052, 24.7079771 , 29.49238193, 23.13862373,\n",
       "       23.23043584, 24.60977972, 24.08941762, 24.31177398, 20.80577473,\n",
       "       25.90806256, 26.75887538, 22.30609597, 16.66640569, 22.84139605,\n",
       "       24.90667801, 19.91528279, 22.75894994, 19.98431868, 21.89007351,\n",
       "       23.30764571,  2.57496848, 31.15578614, 24.50544054, 21.57126667,\n",
       "       25.44327686, 24.82797629])"
      ]
     },
     "execution_count": 48,
     "metadata": {},
     "output_type": "execute_result"
    }
   ],
   "source": [
    "yp"
   ]
  },
  {
   "cell_type": "code",
   "execution_count": 49,
   "metadata": {},
   "outputs": [
    {
     "data": {
      "text/plain": [
       "0.18881732579583954"
      ]
     },
     "execution_count": 49,
     "metadata": {},
     "output_type": "execute_result"
    }
   ],
   "source": [
    "y_mean = np.mean(yt)\n",
    "1 - (yp - yt).dot(yp-yt) / (yt - y_mean).dot(yt-y_mean)"
   ]
  },
  {
   "cell_type": "markdown",
   "metadata": {},
   "source": [
    "# scaling"
   ]
  },
  {
   "cell_type": "code",
   "execution_count": 116,
   "metadata": {},
   "outputs": [
    {
     "data": {
      "text/plain": [
       "StandardScaler(copy=True, with_mean=True, with_std=True)"
      ]
     },
     "execution_count": 116,
     "metadata": {},
     "output_type": "execute_result"
    }
   ],
   "source": [
    "from sklearn.preprocessing import StandardScaler\n",
    "sc = StandardScaler()\n",
    "sc.fit(xtr)"
   ]
  },
  {
   "cell_type": "code",
   "execution_count": 117,
   "metadata": {},
   "outputs": [
    {
     "name": "stdout",
     "output_type": "stream",
     "text": [
      "1.69 s ± 132 ms per loop (mean ± std. dev. of 7 runs, 1 loop each)\n"
     ]
    }
   ],
   "source": [
    "xtr_standard = sc.transform(xtr)\n",
    "%timeit gdc.fit4(xtr_standard, ytr, alpha=0.01, niter=2000)"
   ]
  },
  {
   "cell_type": "code",
   "execution_count": 118,
   "metadata": {},
   "outputs": [],
   "source": [
    "xt_standard = sc.transform(xt)\n",
    "yp = gdc.predict(xt_standard)"
   ]
  },
  {
   "cell_type": "code",
   "execution_count": null,
   "metadata": {},
   "outputs": [],
   "source": []
  },
  {
   "cell_type": "code",
   "execution_count": 119,
   "metadata": {},
   "outputs": [
    {
     "data": {
      "text/plain": [
       "0.7322698271259632"
      ]
     },
     "execution_count": 119,
     "metadata": {},
     "output_type": "execute_result"
    }
   ],
   "source": [
    "y_mean = np.mean(yt)\n",
    "1 - (yp - yt).dot(yp-yt) / (yt - y_mean).dot(yt-y_mean)"
   ]
  },
  {
   "cell_type": "code",
   "execution_count": 109,
   "metadata": {},
   "outputs": [],
   "source": [
    "t = [1,2,3]\n",
    "np.random.shuffle(t)\n"
   ]
  },
  {
   "cell_type": "code",
   "execution_count": 110,
   "metadata": {},
   "outputs": [
    {
     "data": {
      "text/plain": [
       "[3, 2, 1]"
      ]
     },
     "execution_count": 110,
     "metadata": {},
     "output_type": "execute_result"
    }
   ],
   "source": [
    "t"
   ]
  },
  {
   "cell_type": "markdown",
   "metadata": {},
   "source": [
    "# sklearn GD regression"
   ]
  },
  {
   "cell_type": "code",
   "execution_count": 137,
   "metadata": {
    "scrolled": true
   },
   "outputs": [
    {
     "name": "stdout",
     "output_type": "stream",
     "text": [
      "Wall time: 999 µs\n"
     ]
    },
    {
     "name": "stderr",
     "output_type": "stream",
     "text": [
      "e:\\Anaconda3\\envs\\py35\\lib\\site-packages\\sklearn\\linear_model\\stochastic_gradient.py:128: FutureWarning: max_iter and tol parameters have been added in <class 'sklearn.linear_model.stochastic_gradient.SGDRegressor'> in 0.19. If both are left unset, they default to max_iter=5 and tol=None. If tol is not None, max_iter defaults to max_iter=1000. From 0.21, default max_iter will be 1000, and default tol will be 1e-3.\n",
      "  \"and default tol will be 1e-3.\" % type(self), FutureWarning)\n"
     ]
    },
    {
     "data": {
      "text/plain": [
       "0.7288305602725973"
      ]
     },
     "execution_count": 137,
     "metadata": {},
     "output_type": "execute_result"
    }
   ],
   "source": [
    "from sklearn.linear_model import SGDRegressor\n",
    "sgd = SGDRegressor()\n",
    "%time sgd.fit(xtr_standard, ytr)\n",
    "sgd.score(xt_standard, yt)"
   ]
  },
  {
   "cell_type": "code",
   "execution_count": 4,
   "metadata": {},
   "outputs": [
    {
     "data": {
      "text/plain": [
       "array([1, 2, 3])"
      ]
     },
     "execution_count": 4,
     "metadata": {},
     "output_type": "execute_result"
    }
   ],
   "source": [
    "t  = np.array([1,2,3])\n",
    "t2 = t\n",
    "t2 = np.copy(t)\n",
    "t2[0] = 333\n",
    "t"
   ]
  }
 ],
 "metadata": {
  "kernelspec": {
   "display_name": "Python 3",
   "language": "python",
   "name": "python3"
  },
  "language_info": {
   "codemirror_mode": {
    "name": "ipython",
    "version": 3
   },
   "file_extension": ".py",
   "mimetype": "text/x-python",
   "name": "python",
   "nbconvert_exporter": "python",
   "pygments_lexer": "ipython3",
   "version": "3.5.5"
  }
 },
 "nbformat": 4,
 "nbformat_minor": 2
}
