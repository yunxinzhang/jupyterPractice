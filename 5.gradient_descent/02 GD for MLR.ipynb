{
 "cells": [
  {
   "cell_type": "markdown",
   "metadata": {},
   "source": [
    "# easy Gradient Descent"
   ]
  },
  {
   "cell_type": "code",
   "execution_count": 1,
   "metadata": {},
   "outputs": [],
   "source": [
    "from sklearn import datasets\n",
    "import numpy as np\n"
   ]
  },
  {
   "cell_type": "code",
   "execution_count": 2,
   "metadata": {},
   "outputs": [],
   "source": [
    "boston = datasets.load_boston()\n",
    "\n",
    "x = boston.data[:,5].reshape(-1,1)\n",
    "y = boston.target\n",
    "x = x[y<50]\n",
    "y = y[y<50]\n",
    "x = np.array([0,1,2,3]).reshape(-1,1)\n",
    "y = np.array([1,4,7,10])"
   ]
  },
  {
   "cell_type": "code",
   "execution_count": 3,
   "metadata": {},
   "outputs": [
    {
     "data": {
      "text/plain": [
       "(4, 1)"
      ]
     },
     "execution_count": 3,
     "metadata": {},
     "output_type": "execute_result"
    }
   ],
   "source": [
    "x.shape"
   ]
  },
  {
   "cell_type": "code",
   "execution_count": 4,
   "metadata": {},
   "outputs": [
    {
     "data": {
      "text/plain": [
       "array([0., 0.])"
      ]
     },
     "execution_count": 4,
     "metadata": {},
     "output_type": "execute_result"
    }
   ],
   "source": [
    "theta = np.zeros(x.shape[1]+1)\n",
    "theta"
   ]
  },
  {
   "cell_type": "code",
   "execution_count": 5,
   "metadata": {
    "scrolled": true
   },
   "outputs": [],
   "source": [
    "#x = np.hstack((np.ones(len(x)).reshape(-1,1),x ))\n",
    "#x"
   ]
  },
  {
   "cell_type": "code",
   "execution_count": 6,
   "metadata": {},
   "outputs": [],
   "source": [
    "def getG(x, y, theta):\n",
    "    x2 = np.hstack((np.ones(len(x)).reshape(-1,1),x ))\n",
    "    gd = np.zeros(len(theta))\n",
    "    for i in range(x2.shape[1]):\n",
    "        v = 0\n",
    "        for j in range(len(x2)):\n",
    "            v -= (y[j]-x2[j].dot(theta))*x2[j,i]\n",
    "       # print(v,len(x))\n",
    "        gd[i] = v/len(x2)\n",
    "    print(gd)   \n",
    "    return gd"
   ]
  },
  {
   "cell_type": "code",
   "execution_count": 7,
   "metadata": {},
   "outputs": [
    {
     "name": "stdout",
     "output_type": "stream",
     "text": [
      "[ -5.5 -12. ]\n"
     ]
    }
   ],
   "source": [
    "gd = getG(x, y, theta)"
   ]
  },
  {
   "cell_type": "code",
   "execution_count": 8,
   "metadata": {},
   "outputs": [
    {
     "data": {
      "text/plain": [
       "array([ -5.5, -12. ])"
      ]
     },
     "execution_count": 8,
     "metadata": {},
     "output_type": "execute_result"
    }
   ],
   "source": [
    "gd"
   ]
  },
  {
   "cell_type": "code",
   "execution_count": 9,
   "metadata": {},
   "outputs": [
    {
     "data": {
      "text/plain": [
       "5.5"
      ]
     },
     "execution_count": 9,
     "metadata": {},
     "output_type": "execute_result"
    }
   ],
   "source": [
    "np.mean(y)"
   ]
  },
  {
   "cell_type": "code",
   "execution_count": 10,
   "metadata": {},
   "outputs": [
    {
     "name": "stdout",
     "output_type": "stream",
     "text": [
      "[ -5.5 -12. ]\n",
      "[ -5.03  -10.995]\n",
      "[ -4.59955 -10.07445]\n",
      "[-4.2053255 -9.231252 ]\n",
      "[-3.84428143 -8.45890459]\n",
      "[-3.51362866 -7.75145283]\n",
      "[-3.21081251 -7.10344227]\n",
      "[-2.93349299 -6.50987694]\n",
      "[-2.67952682 -5.96618076]\n",
      "[-2.44695086 -5.4681623 ]\n",
      "[-2.23396697 -5.01198242]\n",
      "[-2.03892816 -4.59412464]\n",
      "[-1.86032586 -4.21136807]\n",
      "[-1.6967783  -3.86076253]\n",
      "[-1.54701986 -3.5396058 ]\n",
      "[-1.40989129 -3.2454228 ]\n",
      "[-1.28433078 -2.97594647]\n",
      "[-1.16936577 -2.72910029]\n",
      "[-1.06410544 -2.5029823 ]\n",
      "[-0.96773387 -2.29585037]\n",
      "[-0.87950368 -2.10610883]\n",
      "[-0.79873034 -1.9322961 ]\n",
      "[-0.72478685 -1.77307347]\n",
      "[-0.65709891 -1.62721472]\n",
      "[-0.59514049 -1.49359672]\n",
      "[-0.53842978 -1.37119073]\n",
      "[-0.48652546 -1.25905449]\n",
      "[-0.43902332 -1.15632491]\n",
      "[-0.3955531  -1.06221147]\n",
      "[-0.3557757  -0.97599007]\n",
      "[-0.31938048 -0.8969975 ]\n",
      "[-0.28608295 -0.82462626]\n",
      "[-0.2556225  -0.75831993]\n",
      "[-0.22776045 -0.69756886]\n",
      "[-0.20227818 -0.64190623]\n",
      "[-0.17897543 -0.59090445]\n",
      "[-0.15766878 -0.54417187]\n",
      "[-0.13819025 -0.50134978]\n",
      "[-0.12038595 -0.46210959]\n",
      "[-0.10411495 -0.42615034]\n",
      "[-0.08924814 -0.39319636]\n",
      "[-0.07566728 -0.36299517]\n",
      "[-0.06326408 -0.33531549]\n",
      "[-0.05193934 -0.30994549]\n",
      "[-0.04160219 -0.28669112]\n",
      "[-0.03216941 -0.26537468]\n",
      "[-0.02356478 -0.24583337]\n",
      "[-0.01571848 -0.22791809]\n",
      "[-0.00856657 -0.21149227]\n",
      "[-0.00205047 -0.19643081]\n",
      "[ 0.00388346 -0.18261914]\n",
      "[ 0.00928437 -0.16995231]\n",
      "[ 0.01419725 -0.15833418]\n",
      "[ 0.01866333 -0.1476767 ]\n",
      "[ 0.02272036 -0.13789923]\n",
      "[ 0.02640293 -0.1289279 ]\n",
      "[ 0.02974271 -0.12069503]\n",
      "[ 0.03276871 -0.11313866]\n",
      "[ 0.03550749 -0.10620202]\n",
      "[ 0.03798341 -0.0998331 ]\n",
      "[ 0.04021873 -0.09398428]\n",
      "[ 0.04223388 -0.08861195]\n",
      "[ 0.04404756 -0.08367613]\n",
      "[ 0.0456769  -0.07914022]\n",
      "[ 0.04713757 -0.07497072]\n",
      "[ 0.04844394 -0.07113689]\n",
      "[ 0.04960916 -0.06761063]\n",
      "[ 0.0506453  -0.06436616]\n",
      "[ 0.05156338 -0.06137989]\n",
      "[ 0.05237351 -0.0586302 ]\n",
      "[ 0.05308494 -0.05609729]\n",
      "[ 0.05370616 -0.05376303]\n",
      "[ 0.05424493 -0.0516108 ]\n",
      "[ 0.05470836 -0.04962539]\n",
      "[ 0.05510295 -0.04779286]\n",
      "[ 0.05543468 -0.04610045]\n",
      "[ 0.055709   -0.04453646]\n",
      "[ 0.05593091 -0.04309018]\n",
      "[ 0.056105   -0.04175179]\n",
      "[ 0.05623545 -0.04051232]\n",
      "[ 0.05632611 -0.03936352]\n",
      "[ 0.0563805  -0.03829786]\n",
      "[ 0.05640182 -0.03730842]\n",
      "[ 0.05639304 -0.03638889]\n",
      "[ 0.05635684 -0.03553346]\n",
      "[ 0.05629571 -0.03473682]\n",
      "[ 0.0562119  -0.03399411]\n",
      "[ 0.05610749 -0.03330088]\n",
      "[ 0.05598436 -0.03265304]\n",
      "[ 0.05584427 -0.03204686]\n",
      "[ 0.05568879 -0.03147891]\n",
      "[ 0.05551938 -0.03094605]\n",
      "[ 0.05533737 -0.03044541]\n",
      "[ 0.05514399 -0.02997435]\n",
      "[ 0.05494034 -0.02953047]\n",
      "[ 0.05472745 -0.02911154]\n",
      "[ 0.05450624 -0.02871556]\n",
      "[ 0.05427759 -0.02834066]\n",
      "[ 0.05404225 -0.02798514]\n",
      "[ 0.05380096 -0.02764745]\n",
      "[ 0.05355437 -0.02732615]\n",
      "[ 0.05330306 -0.02701995]\n",
      "[ 0.0530476  -0.02672765]\n",
      "[ 0.05278848 -0.02644814]\n",
      "[ 0.05252615 -0.02618043]\n",
      "[ 0.05226104 -0.02592358]\n",
      "[ 0.05199353 -0.02567676]\n",
      "[ 0.05172396 -0.02543919]\n",
      "[ 0.05145266 -0.02521017]\n",
      "[ 0.05117991 -0.02498904]\n",
      "[ 0.05090598 -0.0247752 ]\n",
      "[ 0.05063112 -0.02456812]\n",
      "[ 0.05035554 -0.02436728]\n",
      "[ 0.05007945 -0.02417224]\n",
      "[ 0.04980303 -0.02398257]\n",
      "[ 0.04952644 -0.02379788]\n",
      "[ 0.04924985 -0.02361782]\n",
      "[ 0.04897339 -0.02344207]\n",
      "[ 0.04869718 -0.02327032]\n",
      "[ 0.04842135 -0.02310232]\n",
      "[ 0.04814599 -0.0229378 ]\n",
      "[ 0.04787121 -0.02277653]\n",
      "[ 0.04759708 -0.02261831]\n",
      "[ 0.04732368 -0.02246294]\n",
      "[ 0.0470511  -0.02231024]\n",
      "[ 0.04677938 -0.02216006]\n",
      "[ 0.0465086  -0.02201224]\n",
      "[ 0.04623879 -0.02186664]\n",
      "[ 0.04597002 -0.02172314]\n",
      "[ 0.04570231 -0.02158162]\n",
      "[ 0.04543571 -0.02144197]\n",
      "[ 0.04517026 -0.02130411]\n",
      "[ 0.04490598 -0.02116793]\n",
      "[ 0.04464289 -0.02103335]\n",
      "[ 0.04438104 -0.0209003 ]\n",
      "[ 0.04412043 -0.02076871]\n",
      "[ 0.04386108 -0.02063852]\n",
      "[ 0.04360301 -0.02050965]\n",
      "[ 0.04334624 -0.02038207]\n",
      "[ 0.04309078 -0.02025571]\n",
      "[ 0.04283663 -0.02013053]\n",
      "[ 0.04258382 -0.0200065 ]\n",
      "[ 0.04233234 -0.01988356]\n",
      "[ 0.0420822  -0.01976168]\n",
      "[ 0.0418334  -0.01964083]\n",
      "[ 0.04158596 -0.01952097]\n",
      "[ 0.04133987 -0.01940208]\n",
      "[ 0.04109513 -0.01928413]\n",
      "[ 0.04085176 -0.0191671 ]\n",
      "[ 0.04060973 -0.01905095]\n",
      "[ 0.04036907 -0.01893568]\n",
      "[ 0.04012976 -0.01882125]\n",
      "[ 0.0398918  -0.01870766]\n",
      "[ 0.03965519 -0.01859487]\n",
      "[ 0.03941993 -0.01848289]\n",
      "[ 0.03918602 -0.01837169]\n",
      "[ 0.03895345 -0.01826125]\n",
      "[ 0.03872222 -0.01815156]\n",
      "[ 0.03849232 -0.01804262]\n",
      "[ 0.03826376 -0.01793441]\n",
      "[ 0.03803651 -0.01782691]\n",
      "[ 0.03781059 -0.01772012]\n",
      "[ 0.03758598 -0.01761403]\n",
      "[ 0.03736268 -0.01750863]\n",
      "[ 0.03714069 -0.01740391]\n",
      "[ 0.03691999 -0.01729985]\n",
      "[ 0.03670059 -0.01719646]\n",
      "[ 0.03648247 -0.01709373]\n",
      "[ 0.03626563 -0.01699164]\n",
      "[ 0.03605007 -0.0168902 ]\n",
      "[ 0.03583577 -0.01678938]\n",
      "[ 0.03562274 -0.0166892 ]\n",
      "[ 0.03541096 -0.01658964]\n",
      "[ 0.03520043 -0.01649069]\n",
      "[ 0.03499114 -0.01639236]\n",
      "[ 0.03478309 -0.01629463]\n",
      "[ 0.03457627 -0.0161975 ]\n",
      "[ 0.03437067 -0.01610096]\n",
      "[ 0.03416628 -0.01600501]\n",
      "[ 0.03396311 -0.01590965]\n",
      "[ 0.03376113 -0.01581487]\n",
      "[ 0.03356036 -0.01572066]\n",
      "[ 0.03336077 -0.01562702]\n",
      "[ 0.03316237 -0.01553396]\n",
      "[ 0.03296514 -0.01544145]\n",
      "[ 0.03276908 -0.0153495 ]\n",
      "[ 0.03257418 -0.01525811]\n",
      "[ 0.03238044 -0.01516727]\n",
      "[ 0.03218785 -0.01507697]\n",
      "[ 0.0319964  -0.01498722]\n",
      "[ 0.03180609 -0.01489801]\n",
      "[ 0.03161691 -0.01480933]\n",
      "[ 0.03142885 -0.01472118]\n",
      "[ 0.03124191 -0.01463357]\n",
      "[ 0.03105608 -0.01454647]\n",
      "[ 0.03087135 -0.0144599 ]\n",
      "[ 0.03068772 -0.01437385]\n",
      "[ 0.03050518 -0.01428831]\n",
      "[ 0.03032373 -0.01420329]\n",
      "[ 0.03014335 -0.01411877]\n"
     ]
    }
   ],
   "source": [
    "\n",
    "    "
   ]
  },
  {
   "cell_type": "code",
   "execution_count": 11,
   "metadata": {},
   "outputs": [],
   "source": [
    "import matplotlib.pyplot as plt"
   ]
  },
  {
   "cell_type": "code",
   "execution_count": 12,
   "metadata": {},
   "outputs": [
    {
     "data": {
      "image/png": "[encoded data removed]",
      "text/plain": [
       "<Figure size 432x288 with 1 Axes>"
      ]
     },
     "metadata": {},
     "output_type": "display_data"
    }
   ],
   "source": [
    "plt.scatter(x, y)\n",
    "plt.plot(x, x*theta[1]+theta[0], color='r')\n",
    "plt.show()"
   ]
  },
  {
   "cell_type": "code",
   "execution_count": 13,
   "metadata": {},
   "outputs": [
    {
     "data": {
      "text/plain": [
       "array([1.10074104, 2.95281534])"
      ]
     },
     "execution_count": 13,
     "metadata": {},
     "output_type": "execute_result"
    }
   ],
   "source": [
    "theta"
   ]
  },
  {
   "cell_type": "markdown",
   "metadata": {},
   "source": [
    "# Gradient Descent Classifier"
   ]
  },
  {
   "cell_type": "code",
   "execution_count": 120,
   "metadata": {},
   "outputs": [],
   "source": [
    "%run GD.py"
   ]
  },
  {
   "cell_type": "code",
   "execution_count": 121,
   "metadata": {},
   "outputs": [],
   "source": [
    "gdc = GDCLF()"
   ]
  },
  {
   "cell_type": "code",
   "execution_count": 31,
   "metadata": {},
   "outputs": [],
   "source": [
    "#gdc.fit(x, y)\n",
    "#gdc.theta"
   ]
  },
  {
   "cell_type": "code",
   "execution_count": 32,
   "metadata": {},
   "outputs": [],
   "source": [
    "x = boston.data\n",
    "y = boston.target"
   ]
  },
  {
   "cell_type": "code",
   "execution_count": 33,
   "metadata": {},
   "outputs": [],
   "source": [
    "from sklearn.model_selection import train_test_split\n",
    "xtr, xt, ytr, yt = train_test_split(x, y)"
   ]
  },
  {
   "cell_type": "markdown",
   "metadata": {},
   "source": [
    "# 容易 overflow，没有 scaling的话"
   ]
  },
  {
   "cell_type": "code",
   "execution_count": 46,
   "metadata": {},
   "outputs": [
    {
     "data": {
      "text/plain": [
       "<__main__.GDCLF at 0x120627f4978>"
      ]
     },
     "execution_count": 46,
     "metadata": {},
     "output_type": "execute_result"
    }
   ],
   "source": [
    "gdc.fit(xtr, ytr, alpha= 0.000001, niter=10000)"
   ]
  },
  {
   "cell_type": "code",
   "execution_count": 47,
   "metadata": {},
   "outputs": [],
   "source": [
    "yp = gdc.predict(xt)"
   ]
  },
  {
   "cell_type": "code",
   "execution_count": 48,
   "metadata": {
    "scrolled": true
   },
   "outputs": [
    {
     "data": {
      "text/plain": [
       "array([30.2678107 , 22.35408001, 11.81025451, 19.88554033, 27.63846023,\n",
       "       21.95807897, 25.3799259 , 22.44723864, 34.19747432, 20.83989982,\n",
       "       22.94820426, 23.54348101, 32.71446079, 21.52922778, 26.12758116,\n",
       "       17.98711745, 25.83985856, 24.24681075, 23.1486082 , 33.02719821,\n",
       "       24.02035051, 19.86857711, 28.06117625, 24.99260557,  7.42081432,\n",
       "       22.9265139 , 21.42521167, 23.72083976, 21.76587733, 20.66974409,\n",
       "       24.35531918, 23.4300905 , 24.1792647 , 21.4543431 , 34.02393959,\n",
       "       13.97987396, 27.38441003, 21.33303443, 22.03916704, 23.52228213,\n",
       "        2.5488928 , 21.2090044 , 19.7978919 , 14.56172327, 25.73451926,\n",
       "       19.84157285, 25.68698731, 19.42253347, 21.19208227, 32.37601826,\n",
       "       18.41920611, 25.0386047 , 23.43575878, 16.31153367, 21.55288292,\n",
       "       24.11265357, 26.30281204, 32.35345205, 21.64185551, 25.49710554,\n",
       "        2.0490167 , 28.9526717 , 29.4190974 , 21.30426608, 23.17371776,\n",
       "       18.49799786, 22.8927059 , 23.99341226,  8.27777712, 20.2586117 ,\n",
       "        1.68836045, 22.04535567, 11.87946834, 23.27643613, 22.28445221,\n",
       "       21.29760601, 24.38924633, 24.95860162, 20.76887785, 23.51556323,\n",
       "       23.37105429, 22.2859007 , 22.54489128, 22.78678933, 23.26397796,\n",
       "       30.81055537, 22.85214147, 23.41004147, 21.56310047,  4.18865481,\n",
       "       25.71055312,  6.76042646,  0.76952879, 16.45277928,  2.21720756,\n",
       "       23.66507233, 20.18071955, 22.4917741 , 32.91459379, 22.73790799,\n",
       "       29.19975503, 23.82747052, 24.7079771 , 29.49238193, 23.13862373,\n",
       "       23.23043584, 24.60977972, 24.08941762, 24.31177398, 20.80577473,\n",
       "       25.90806256, 26.75887538, 22.30609597, 16.66640569, 22.84139605,\n",
       "       24.90667801, 19.91528279, 22.75894994, 19.98431868, 21.89007351,\n",
       "       23.30764571,  2.57496848, 31.15578614, 24.50544054, 21.57126667,\n",
       "       25.44327686, 24.82797629])"
      ]
     },
     "execution_count": 48,
     "metadata": {},
     "output_type": "execute_result"
    }
   ],
   "source": [
    "yp"
   ]
  },
  {
   "cell_type": "code",
   "execution_count": 49,
   "metadata": {},
   "outputs": [
    {
     "data": {
      "text/plain": [
       "0.18881732579583954"
      ]
     },
     "execution_count": 49,
     "metadata": {},
     "output_type": "execute_result"
    }
   ],
   "source": [
    "y_mean = np.mean(yt)\n",
    "1 - (yp - yt).dot(yp-yt) / (yt - y_mean).dot(yt-y_mean)"
   ]
  },
  {
   "cell_type": "markdown",
   "metadata": {},
   "source": [
    "# scaling"
   ]
  },
  {
   "cell_type": "code",
   "execution_count": 122,
   "metadata": {},
   "outputs": [
    {
     "data": {
      "text/plain": [
       "StandardScaler(copy=True, with_mean=True, with_std=True)"
      ]
     },
     "execution_count": 122,
     "metadata": {},
     "output_type": "execute_result"
    }
   ],
   "source": [
    "from sklearn.preprocessing import StandardScaler\n",
    "sc = StandardScaler()\n",
    "sc.fit(xtr)"
   ]
  },
  {
   "cell_type": "code",
   "execution_count": 131,
   "metadata": {},
   "outputs": [
    {
     "name": "stdout",
     "output_type": "stream",
     "text": [
      "19.9 ms ± 696 µs per loop (mean ± std. dev. of 7 runs, 10 loops each)\n"
     ]
    }
   ],
   "source": [
    "xtr_standard = sc.transform(xtr)\n",
    "%timeit gdc.fit3(xtr_standard, ytr, alpha=0.01, niter=1000)"
   ]
  },
  {
   "cell_type": "code",
   "execution_count": 124,
   "metadata": {},
   "outputs": [],
   "source": [
    "xt_standard = sc.transform(xt)\n",
    "yp = gdc.predict(xt_standard)"
   ]
  },
  {
   "cell_type": "code",
   "execution_count": null,
   "metadata": {},
   "outputs": [],
   "source": []
  },
  {
   "cell_type": "code",
   "execution_count": 125,
   "metadata": {},
   "outputs": [
    {
     "data": {
      "text/plain": [
       "0.7233094638914668"
      ]
     },
     "execution_count": 125,
     "metadata": {},
     "output_type": "execute_result"
    }
   ],
   "source": [
    "y_mean = np.mean(yt)\n",
    "1 - (yp - yt).dot(yp-yt) / (yt - y_mean).dot(yt-y_mean)"
   ]
  },
  {
   "cell_type": "code",
   "execution_count": 126,
   "metadata": {},
   "outputs": [],
   "source": [
    "t = [1,2,3]\n",
    "np.random.shuffle(t)\n"
   ]
  },
  {
   "cell_type": "code",
   "execution_count": 127,
   "metadata": {},
   "outputs": [
    {
     "data": {
      "text/plain": [
       "[3, 1, 2]"
      ]
     },
     "execution_count": 127,
     "metadata": {},
     "output_type": "execute_result"
    }
   ],
   "source": [
    "t"
   ]
  },
  {
   "cell_type": "markdown",
   "metadata": {},
   "source": [
    "# sklearn GD regression"
   ]
  },
  {
   "cell_type": "code",
   "execution_count": 137,
   "metadata": {},
   "outputs": [
    {
     "name": "stdout",
     "output_type": "stream",
     "text": [
      "Wall time: 999 µs\n"
     ]
    },
    {
     "name": "stderr",
     "output_type": "stream",
     "text": [
      "e:\\Anaconda3\\envs\\py35\\lib\\site-packages\\sklearn\\linear_model\\stochastic_gradient.py:128: FutureWarning: max_iter and tol parameters have been added in <class 'sklearn.linear_model.stochastic_gradient.SGDRegressor'> in 0.19. If both are left unset, they default to max_iter=5 and tol=None. If tol is not None, max_iter defaults to max_iter=1000. From 0.21, default max_iter will be 1000, and default tol will be 1e-3.\n",
      "  \"and default tol will be 1e-3.\" % type(self), FutureWarning)\n"
     ]
    },
    {
     "data": {
      "text/plain": [
       "0.7288305602725973"
      ]
     },
     "execution_count": 137,
     "metadata": {},
     "output_type": "execute_result"
    }
   ],
   "source": [
    "from sklearn.linear_model import SGDRegressor\n",
    "sgd = SGDRegressor()\n",
    "%time sgd.fit(xtr_standard, ytr)\n",
    "sgd.score(xt_standard, yt)"
   ]
  }
 ],
 "metadata": {
  "kernelspec": {
   "display_name": "Python 3",
   "language": "python",
   "name": "python3"
  },
  "language_info": {
   "codemirror_mode": {
    "name": "ipython",
    "version": 3
   },
   "file_extension": ".py",
   "mimetype": "text/x-python",
   "name": "python",
   "nbconvert_exporter": "python",
   "pygments_lexer": "ipython3",
   "version": "3.5.5"
  }
 },
 "nbformat": 4,
 "nbformat_minor": 2
}
