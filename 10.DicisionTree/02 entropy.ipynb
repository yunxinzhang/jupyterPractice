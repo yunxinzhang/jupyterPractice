{
 "cells": [
  {
   "cell_type": "code",
   "execution_count": 13,
   "metadata": {},
   "outputs": [],
   "source": [
    "from sklearn import datasets"
   ]
  },
  {
   "cell_type": "code",
   "execution_count": 14,
   "metadata": {},
   "outputs": [],
   "source": [
    "import numpy as np"
   ]
  },
  {
   "cell_type": "code",
   "execution_count": 34,
   "metadata": {},
   "outputs": [],
   "source": [
    "isir = datasets.load_iris()"
   ]
  },
  {
   "cell_type": "code",
   "execution_count": 35,
   "metadata": {},
   "outputs": [],
   "source": [
    "x1 = isir.data[:,3]\n",
    "y = isir.target"
   ]
  },
  {
   "cell_type": "code",
   "execution_count": 36,
   "metadata": {},
   "outputs": [],
   "source": [
    "from collections import Counter"
   ]
  },
  {
   "cell_type": "code",
   "execution_count": 37,
   "metadata": {},
   "outputs": [],
   "source": [
    "def entropy(y):\n",
    "    cnt = Counter(y)\n",
    "    res = 0.0\n",
    "    for i in cnt.values():\n",
    "        p = i/len(y)\n",
    "        res += -p*np.log(p)\n",
    "    return res"
   ]
  },
  {
   "cell_type": "code",
   "execution_count": 38,
   "metadata": {},
   "outputs": [
    {
     "name": "stdout",
     "output_type": "stream",
     "text": [
      "0.6931471805599453 0.8\n"
     ]
    }
   ],
   "source": [
    "x_ind = np.argsort(x1)\n",
    "min_ent = 1e9\n",
    "min_cut = -1\n",
    "for i in range(len(x1)-1):\n",
    "    if y[x_ind[i]] != y[x_ind[i+1]]:\n",
    "        cut = (x1[x_ind[i]] + x1[x_ind[i+1]])/2\n",
    "        xl_ind = x_ind[0:i+1]\n",
    "        xr_ind = x_ind[i+1:]\n",
    "        xl = x1[xl_ind]\n",
    "        xr = x1[xr_ind]\n",
    "        yl = y[xl_ind]\n",
    "        yr = y[xr_ind]\n",
    "        ent = entropy(yl) + entropy(yr)\n",
    "        if ent < min_ent:\n",
    "            min_cut = cut\n",
    "            min_ent = ent\n",
    "print (min_ent, min_cut)"
   ]
  },
  {
   "cell_type": "code",
   "execution_count": 39,
   "metadata": {},
   "outputs": [],
   "source": [
    "import matplotlib.pyplot as plt"
   ]
  },
  {
   "cell_type": "code",
   "execution_count": 40,
   "metadata": {},
   "outputs": [
    {
     "data": {
      "text/plain": [
       "<matplotlib.collections.PathCollection at 0x1a0b021d128>"
      ]
     },
     "execution_count": 40,
     "metadata": {},
     "output_type": "execute_result"
    },
    {
     "data": {
      "image/png": "[encoded data removed]",
      "text/plain": [
       "<Figure size 432x288 with 1 Axes>"
      ]
     },
     "metadata": {},
     "output_type": "display_data"
    }
   ],
   "source": [
    "plt.scatter(isir.data[isir.target==0,3], isir.data[isir.target==0,1])\n",
    "plt.scatter(isir.data[isir.target==1,3], isir.data[isir.target==1,1])\n",
    "plt.scatter(isir.data[isir.target==2,3], isir.data[isir.target==2,1])"
   ]
  },
  {
   "cell_type": "code",
   "execution_count": null,
   "metadata": {},
   "outputs": [],
   "source": []
  }
 ],
 "metadata": {
  "kernelspec": {
   "display_name": "Python 3",
   "language": "python",
   "name": "python3"
  },
  "language_info": {
   "codemirror_mode": {
    "name": "ipython",
    "version": 3
   },
   "file_extension": ".py",
   "mimetype": "text/x-python",
   "name": "python",
   "nbconvert_exporter": "python",
   "pygments_lexer": "ipython3",
   "version": "3.5.5"
  }
 },
 "nbformat": 4,
 "nbformat_minor": 2
}
