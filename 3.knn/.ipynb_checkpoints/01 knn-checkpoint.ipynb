{
 "cells": [
  {
   "cell_type": "code",
   "execution_count": 1,
   "metadata": {},
   "outputs": [],
   "source": [
    "import numpy as np\n",
    "import matplotlib.pyplot as plt\n",
    "from sklearn import datasets\n",
    "iris = datasets.load_iris()"
   ]
  },
  {
   "cell_type": "code",
   "execution_count": 14,
   "metadata": {},
   "outputs": [
    {
     "data": {
      "text/plain": [
       "(150,)"
      ]
     },
     "execution_count": 14,
     "metadata": {},
     "output_type": "execute_result"
    }
   ],
   "source": [
    "x = iris.data\n",
    "y = iris.target\n",
    "y\n",
    "y.shape"
   ]
  },
  {
   "cell_type": "code",
   "execution_count": 3,
   "metadata": {},
   "outputs": [
    {
     "data": {
      "image/png": "[encoded data removed]",
      "text/plain": [
       "<Figure size 432x288 with 1 Axes>"
      ]
     },
     "metadata": {},
     "output_type": "display_data"
    }
   ],
   "source": [
    "plt.scatter(x[y==0,1], x[y==0,2], color='red')\n",
    "plt.scatter(x[y==1,1], x[y==1,2], color='blue')\n",
    "plt.scatter(x[y==2,1], x[y==2,2], color='green')\n",
    "plt.show()"
   ]
  },
  {
   "cell_type": "code",
   "execution_count": 4,
   "metadata": {},
   "outputs": [
    {
     "data": {
      "text/plain": [
       "(1.3277235160265897, 5.928701005672888)"
      ]
     },
     "execution_count": 4,
     "metadata": {},
     "output_type": "execute_result"
    }
   ],
   "source": [
    "px = np.random.random()*5+1\n",
    "py = np.random.random()*7\n",
    "px, py"
   ]
  },
  {
   "cell_type": "code",
   "execution_count": 5,
   "metadata": {},
   "outputs": [
    {
     "data": {
      "text/plain": [
       "True"
      ]
     },
     "execution_count": 5,
     "metadata": {},
     "output_type": "execute_result"
    }
   ],
   "source": [
    "1==1"
   ]
  },
  {
   "cell_type": "code",
   "execution_count": 6,
   "metadata": {},
   "outputs": [],
   "source": [
    "def calc_dist(x0, y0, x1, x2):\n",
    "    return np.sqrt((x0-x1)*(x0-x1)+(y0-x2)*(y0-x2))"
   ]
  },
  {
   "cell_type": "code",
   "execution_count": 7,
   "metadata": {},
   "outputs": [],
   "source": [
    "def calc_all_dist(x0,y0):\n",
    "    res = []\n",
    "    for it in x:\n",
    "        res.append(calc_dist(x0,y0,it[1], it[2]))\n",
    "    return res"
   ]
  },
  {
   "cell_type": "code",
   "execution_count": 8,
   "metadata": {},
   "outputs": [],
   "source": [
    "res = calc_all_dist(px,py)\n",
    "res = np.array(res)"
   ]
  },
  {
   "cell_type": "code",
   "execution_count": 9,
   "metadata": {},
   "outputs": [],
   "source": [
    "resind = np.argsort(res) # 这个函数可以省去很多的代码\n"
   ]
  },
  {
   "cell_type": "code",
   "execution_count": 10,
   "metadata": {},
   "outputs": [
    {
     "name": "stdout",
     "output_type": "stream",
     "text": [
      "two\n"
     ]
    }
   ],
   "source": [
    "t1=0\n",
    "t2=0\n",
    "t3=0\n",
    "for i in resind[0:5]:\n",
    "    if y[i] == 0:\n",
    "        t1 = t1+1\n",
    "    elif y[i] == 1:\n",
    "        t2 = t2+1\n",
    "    elif y[i] == 2:\n",
    "        t3 = t3+1\n",
    "\n",
    "if t1>=t2 and t1>=t3:\n",
    "    print(\"zero\")\n",
    "elif t2>=t1 and t2>=t3:\n",
    "    print(\"one\")\n",
    "elif t3>=t1 and t3>=t1:\n",
    "    print(\"two\")"
   ]
  },
  {
   "cell_type": "code",
   "execution_count": 11,
   "metadata": {},
   "outputs": [
    {
     "data": {
      "image/png": "[encoded data removed]",
      "text/plain": [
       "<Figure size 432x288 with 1 Axes>"
      ]
     },
     "metadata": {},
     "output_type": "display_data"
    }
   ],
   "source": [
    "plt.scatter(x[y==0,1], x[y==0,2], color='red')\n",
    "plt.scatter(x[y==1,1], x[y==1,2], color='blue')\n",
    "plt.scatter(x[y==2,1], x[y==2,2], color='green')\n",
    "plt.scatter(px,py,color='orange')\n",
    "plt.show()"
   ]
  },
  {
   "cell_type": "markdown",
   "metadata": {},
   "source": [
    "# 计算每个类别中的个数 方法2"
   ]
  },
  {
   "cell_type": "code",
   "execution_count": 12,
   "metadata": {},
   "outputs": [
    {
     "data": {
      "text/plain": [
       "2"
      ]
     },
     "execution_count": 12,
     "metadata": {},
     "output_type": "execute_result"
    }
   ],
   "source": [
    "topN = [y[i] for i in resind[0:5]]\n",
    "from collections import Counter\n",
    "votes = Counter(topN)\n",
    "votes.most_common(1)[0][0]"
   ]
  },
  {
   "cell_type": "code",
   "execution_count": 22,
   "metadata": {},
   "outputs": [],
   "source": [
    "def data_split(X_input, Y_input, radio = 0.2, seed=None):\n",
    "    \n",
    "    assert X_input.shape[0] == Y_input.shape[0] , \"shape must match\"\n",
    "    assert radio > 0 and radio < 1 , \"radio must between 0 and 1\"\n",
    "    if seed :\n",
    "        np.random.seed(seed)\n",
    "    \n",
    "    shuffled_index = np.random.permutation(X_input.shape[0])\n",
    "    tsize = int( X_input.shape[0] * radio )\n",
    "    #print(shuffled_index)\n",
    "    #print(tsize)\n",
    "    X_train = X_input[shuffled_index[tsize:]]\n",
    "    Y_train = Y_input[shuffled_index[tsize:]]\n",
    "    \n",
    "    X_test = X_input[shuffled_index[:tsize]]\n",
    "    Y_test = Y_input[shuffled_index[:tsize]]\n",
    "\n",
    "    return X_train, Y_train, X_test, Y_test "
   ]
  },
  {
   "cell_type": "code",
   "execution_count": 29,
   "metadata": {},
   "outputs": [],
   "source": [
    "Xtr, Ytr, Xt, Yt = data_split( x[:, 1:3], y )"
   ]
  },
  {
   "cell_type": "code",
   "execution_count": 31,
   "metadata": {},
   "outputs": [],
   "source": [
    "%run knnmy.py"
   ]
  },
  {
   "cell_type": "code",
   "execution_count": 32,
   "metadata": {},
   "outputs": [],
   "source": [
    "myknn = KNNCLF()"
   ]
  },
  {
   "cell_type": "code",
   "execution_count": 41,
   "metadata": {},
   "outputs": [
    {
     "data": {
      "text/plain": [
       "<__main__.KNNCLF at 0x18e5812e7f0>"
      ]
     },
     "execution_count": 41,
     "metadata": {},
     "output_type": "execute_result"
    }
   ],
   "source": [
    "myknn.fit(Xtr,Ytr.reshape(-1,1))"
   ]
  },
  {
   "cell_type": "code",
   "execution_count": 42,
   "metadata": {},
   "outputs": [],
   "source": [
    "yp = [myknn.predict2(x.reshape(1,-1)) for x in Xt]"
   ]
  },
  {
   "cell_type": "code",
   "execution_count": 44,
   "metadata": {},
   "outputs": [
    {
     "data": {
      "text/plain": [
       "[True,\n",
       " True,\n",
       " True,\n",
       " True,\n",
       " True,\n",
       " True,\n",
       " True,\n",
       " True,\n",
       " True,\n",
       " True,\n",
       " True,\n",
       " True,\n",
       " True,\n",
       " True,\n",
       " True,\n",
       " True,\n",
       " True,\n",
       " True,\n",
       " False,\n",
       " True,\n",
       " True,\n",
       " True,\n",
       " True,\n",
       " True,\n",
       " True,\n",
       " True,\n",
       " True,\n",
       " True,\n",
       " True,\n",
       " True]"
      ]
     },
     "execution_count": 44,
     "metadata": {},
     "output_type": "execute_result"
    }
   ],
   "source": [
    "[yp[i]==Yt[i] for i in range(len(yp))]"
   ]
  },
  {
   "cell_type": "code",
   "execution_count": 46,
   "metadata": {},
   "outputs": [
    {
     "ename": "SyntaxError",
     "evalue": "invalid syntax (<ipython-input-46-0b309de57ffd>, line 2)",
     "output_type": "error",
     "traceback": [
      "\u001b[1;36m  File \u001b[1;32m\"<ipython-input-46-0b309de57ffd>\"\u001b[1;36m, line \u001b[1;32m2\u001b[0m\n\u001b[1;33m    cnt = np.sum([y_pred[i] == y_real[i] for i in range(len(y_pred)))\u001b[0m\n\u001b[1;37m                                                                    ^\u001b[0m\n\u001b[1;31mSyntaxError\u001b[0m\u001b[1;31m:\u001b[0m invalid syntax\n"
     ]
    }
   ],
   "source": [
    "def calc_ac(y_pred, y_real):\n",
    "\tcnt = np.sum([y_pred[i] == y_real[i] for i in range(len(y_pred))]) \n",
    "\treturn 1.0*cnt/len(y_pred)"
   ]
  }
 ],
 "metadata": {
  "kernelspec": {
   "display_name": "Python 3",
   "language": "python",
   "name": "python3"
  },
  "language_info": {
   "codemirror_mode": {
    "name": "ipython",
    "version": 3
   },
   "file_extension": ".py",
   "mimetype": "text/x-python",
   "name": "python",
   "nbconvert_exporter": "python",
   "pygments_lexer": "ipython3",
   "version": "3.5.5"
  }
 },
 "nbformat": 4,
 "nbformat_minor": 2
}
