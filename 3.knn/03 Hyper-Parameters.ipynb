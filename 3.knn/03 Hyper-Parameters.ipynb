{
 "cells": [
  {
   "cell_type": "code",
   "execution_count": 10,
   "metadata": {},
   "outputs": [],
   "source": [
    "from sklearn import datasets\n",
    "iris = datasets.load_iris()"
   ]
  },
  {
   "cell_type": "code",
   "execution_count": 11,
   "metadata": {},
   "outputs": [],
   "source": [
    "from sklearn.neighbors import KNeighborsClassifier\n",
    "knn = KNeighborsClassifier()\n",
    "from sklearn.cross_validation import train_test_split\n",
    "Xtr, Xt, Ytr, Yt = train_test_split(iris.data, iris.target)\n"
   ]
  },
  {
   "cell_type": "code",
   "execution_count": 12,
   "metadata": {},
   "outputs": [
    {
     "data": {
      "text/plain": [
       "KNeighborsClassifier(algorithm='auto', leaf_size=30, metric='minkowski',\n",
       "           metric_params=None, n_jobs=1, n_neighbors=5, p=2,\n",
       "           weights='uniform')"
      ]
     },
     "execution_count": 12,
     "metadata": {},
     "output_type": "execute_result"
    }
   ],
   "source": [
    "knn.fit(Xtr, Ytr)"
   ]
  },
  {
   "cell_type": "code",
   "execution_count": 13,
   "metadata": {},
   "outputs": [
    {
     "data": {
      "text/plain": [
       "0.9736842105263158"
      ]
     },
     "execution_count": 13,
     "metadata": {},
     "output_type": "execute_result"
    }
   ],
   "source": [
    "from sklearn.metrics import accuracy_score\n",
    "y_pred = knn.predict(Xt)\n",
    "accuracy_score(Yt,y_pred)"
   ]
  },
  {
   "cell_type": "code",
   "execution_count": 14,
   "metadata": {},
   "outputs": [],
   "source": [
    "accuracy_score?"
   ]
  },
  {
   "cell_type": "markdown",
   "metadata": {},
   "source": [
    "   # best k"
   ]
  },
  {
   "cell_type": "code",
   "execution_count": 36,
   "metadata": {},
   "outputs": [],
   "source": [
    "KNeighborsClassifier?"
   ]
  },
  {
   "cell_type": "code",
   "execution_count": 28,
   "metadata": {},
   "outputs": [],
   "source": [
    "#import sklearn.neighbors import DistanceMetric\n",
    "#http"
   ]
  },
  {
   "cell_type": "code",
   "execution_count": 18,
   "metadata": {},
   "outputs": [
    {
     "name": "stdout",
     "output_type": "stream",
     "text": [
      "1 0.9736842105263158\n",
      "2 0.9473684210526315\n",
      "3 0.9736842105263158\n",
      "4 0.9736842105263158\n",
      "5 0.9736842105263158\n",
      "6 0.9736842105263158\n",
      "7 0.9736842105263158\n",
      "8 0.9736842105263158\n",
      "9 0.9736842105263158\n",
      "0.9736842105263158 1\n"
     ]
    }
   ],
   "source": [
    "best = 0\n",
    "bestk = -1\n",
    "for k in range(1,10):\n",
    "    knn = KNeighborsClassifier(n_neighbors=k)\n",
    "    knn.fit(Xtr, Ytr)\n",
    "    y_pred = knn.predict(Xt)\n",
    "    ac = accuracy_score(Yt, y_pred)\n",
    "    print(k, ac)\n",
    "    if ac > best:\n",
    "        best , bestk = ac, k\n",
    "print(best, bestk)       \n",
    "    "
   ]
  },
  {
   "cell_type": "markdown",
   "metadata": {},
   "source": [
    "# best metric"
   ]
  },
  {
   "cell_type": "code",
   "execution_count": 31,
   "metadata": {
    "scrolled": true
   },
   "outputs": [
    {
     "name": "stdout",
     "output_type": "stream",
     "text": [
      "1 0.9736842105263158\n",
      "2 0.9473684210526315\n",
      "3 0.9736842105263158\n",
      "4 0.9736842105263158\n",
      "5 0.9736842105263158\n",
      "6 0.9736842105263158\n",
      "7 0.9736842105263158\n",
      "8 0.9736842105263158\n",
      "9 0.9736842105263158\n",
      "1 0.9473684210526315\n",
      "2 0.9210526315789473\n",
      "3 0.9736842105263158\n",
      "4 0.9473684210526315\n",
      "5 0.9473684210526315\n",
      "6 0.9473684210526315\n",
      "7 0.9736842105263158\n",
      "8 0.9736842105263158\n",
      "9 0.9736842105263158\n",
      "1 0.9736842105263158\n",
      "2 0.9736842105263158\n",
      "3 0.9736842105263158\n",
      "4 0.9736842105263158\n",
      "5 0.9473684210526315\n",
      "6 1.0\n",
      "7 0.9736842105263158\n",
      "8 0.9736842105263158\n",
      "9 0.9736842105263158\n",
      "1.0 6 chebyshev\n"
     ]
    }
   ],
   "source": [
    "best = 0\n",
    "bestk = -1\n",
    "bestc = ''\n",
    "mtr = ['euclidean', 'manhattan', 'chebyshev']\n",
    "for mc in mtr:\n",
    "    for k in range(1,10):\n",
    "        knn = KNeighborsClassifier(n_neighbors=k,metric=mc)\n",
    "        knn.fit(Xtr, Ytr)\n",
    "        y_pred = knn.predict(Xt)\n",
    "        ac = accuracy_score(Yt, y_pred, metric)\n",
    "        print(k, ac)\n",
    "        if ac > best:\n",
    "            best , bestk, bestc = ac, k, mc\n",
    "print(best, bestk, mc)   "
   ]
  },
  {
   "cell_type": "markdown",
   "metadata": {},
   "source": [
    "# best p , 'minkowski'"
   ]
  },
  {
   "cell_type": "code",
   "execution_count": 35,
   "metadata": {
    "scrolled": true
   },
   "outputs": [
    {
     "name": "stdout",
     "output_type": "stream",
     "text": [
      "1 0.9473684210526315\n",
      "2 0.9210526315789473\n",
      "3 0.9736842105263158\n",
      "4 0.9473684210526315\n",
      "5 0.9473684210526315\n",
      "6 0.9473684210526315\n",
      "7 0.9736842105263158\n",
      "8 0.9736842105263158\n",
      "9 0.9736842105263158\n",
      "1 0.9736842105263158\n",
      "2 0.9473684210526315\n",
      "3 0.9736842105263158\n",
      "4 0.9736842105263158\n",
      "5 0.9736842105263158\n",
      "6 0.9736842105263158\n",
      "7 0.9736842105263158\n",
      "8 0.9736842105263158\n",
      "9 0.9736842105263158\n",
      "1 0.9736842105263158\n",
      "2 0.9473684210526315\n",
      "3 0.9736842105263158\n",
      "4 0.9736842105263158\n",
      "5 0.9736842105263158\n",
      "6 0.9736842105263158\n",
      "7 0.9736842105263158\n",
      "8 0.9736842105263158\n",
      "9 0.9736842105263158\n",
      "1 0.9736842105263158\n",
      "2 0.9473684210526315\n",
      "3 0.9736842105263158\n",
      "4 0.9736842105263158\n",
      "5 0.9736842105263158\n",
      "6 0.9736842105263158\n",
      "7 0.9736842105263158\n",
      "8 0.9736842105263158\n",
      "9 0.9736842105263158\n",
      "1 0.9736842105263158\n",
      "2 0.9473684210526315\n",
      "3 0.9736842105263158\n",
      "4 0.9736842105263158\n",
      "5 0.9736842105263158\n",
      "6 0.9736842105263158\n",
      "7 0.9736842105263158\n",
      "8 0.9736842105263158\n",
      "9 0.9736842105263158\n",
      "1 0.9736842105263158\n",
      "2 0.9473684210526315\n",
      "3 0.9736842105263158\n",
      "4 0.9736842105263158\n",
      "5 0.9736842105263158\n",
      "6 0.9736842105263158\n",
      "7 0.9736842105263158\n",
      "8 0.9736842105263158\n",
      "9 0.9736842105263158\n",
      "1 0.9736842105263158\n",
      "2 0.9473684210526315\n",
      "3 0.9736842105263158\n",
      "4 0.9736842105263158\n",
      "5 0.9736842105263158\n",
      "6 0.9736842105263158\n",
      "7 0.9736842105263158\n",
      "8 0.9736842105263158\n",
      "9 0.9736842105263158\n",
      "1 0.9736842105263158\n",
      "2 0.9473684210526315\n",
      "3 0.9736842105263158\n",
      "4 0.9736842105263158\n",
      "5 0.9736842105263158\n",
      "6 0.9736842105263158\n",
      "7 0.9736842105263158\n",
      "8 0.9736842105263158\n",
      "9 0.9736842105263158\n",
      "1 0.9736842105263158\n",
      "2 0.9473684210526315\n",
      "3 0.9736842105263158\n",
      "4 0.9736842105263158\n",
      "5 0.9736842105263158\n",
      "6 0.9736842105263158\n",
      "7 0.9736842105263158\n",
      "8 0.9736842105263158\n",
      "9 0.9736842105263158\n",
      "0.9736842105263158 3 9\n"
     ]
    }
   ],
   "source": [
    "best = 0\n",
    "bestk = -1\n",
    "bestc = ''\n",
    "for mc in range(1,10):\n",
    "    for k in range(1,10):\n",
    "        knn = KNeighborsClassifier(n_neighbors=k, p=mc)\n",
    "        knn.fit(Xtr, Ytr)\n",
    "        y_pred = knn.predict(Xt)\n",
    "        ac = accuracy_score(Yt, y_pred, metric)\n",
    "        print(k, ac)\n",
    "        if ac > best:\n",
    "            best , bestk, bestc = ac, k, mc\n",
    "print(best, bestk, mc) "
   ]
  },
  {
   "cell_type": "markdown",
   "metadata": {},
   "source": [
    "# grid search"
   ]
  },
  {
   "cell_type": "code",
   "execution_count": 39,
   "metadata": {},
   "outputs": [],
   "source": [
    "gird = [\n",
    "    {\n",
    "        'weights':['uniform', 'distance'],\n",
    "        'n_neighbors':range(1,11),\n",
    "        'p':range(1,11)\n",
    "    }\n",
    "]\n",
    "knn = KNeighborsClassifier()\n",
    "from sklearn.model_selection import GridSearchCV\n",
    "\n",
    "grid_search = GridSearchCV(estimator=knn,param_grid=gird)"
   ]
  },
  {
   "cell_type": "code",
   "execution_count": 42,
   "metadata": {},
   "outputs": [
    {
     "data": {
      "text/plain": [
       "GridSearchCV(cv=None, error_score='raise',\n",
       "       estimator=KNeighborsClassifier(algorithm='auto', leaf_size=30, metric='minkowski',\n",
       "           metric_params=None, n_jobs=1, n_neighbors=5, p=2,\n",
       "           weights='uniform'),\n",
       "       fit_params=None, iid=True, n_jobs=1,\n",
       "       param_grid=[{'weights': ['uniform', 'distance'], 'p': range(1, 11), 'n_neighbors': range(1, 11)}],\n",
       "       pre_dispatch='2*n_jobs', refit=True, return_train_score='warn',\n",
       "       scoring=None, verbose=0)"
      ]
     },
     "execution_count": 42,
     "metadata": {},
     "output_type": "execute_result"
    }
   ],
   "source": [
    "grid_search.fit(iris.data,iris.target)"
   ]
  },
  {
   "cell_type": "code",
   "execution_count": 43,
   "metadata": {},
   "outputs": [
    {
     "data": {
      "text/plain": [
       "KNeighborsClassifier(algorithm='auto', leaf_size=30, metric='minkowski',\n",
       "           metric_params=None, n_jobs=1, n_neighbors=5, p=2,\n",
       "           weights='uniform')"
      ]
     },
     "execution_count": 43,
     "metadata": {},
     "output_type": "execute_result"
    }
   ],
   "source": [
    "grid_search.best_estimator_"
   ]
  },
  {
   "cell_type": "code",
   "execution_count": 44,
   "metadata": {},
   "outputs": [
    {
     "data": {
      "text/plain": [
       "0.9866666666666667"
      ]
     },
     "execution_count": 44,
     "metadata": {},
     "output_type": "execute_result"
    }
   ],
   "source": [
    "grid_search.best_score_"
   ]
  }
 ],
 "metadata": {
  "kernelspec": {
   "display_name": "Python 3",
   "language": "python",
   "name": "python3"
  },
  "language_info": {
   "codemirror_mode": {
    "name": "ipython",
    "version": 3
   },
   "file_extension": ".py",
   "mimetype": "text/x-python",
   "name": "python",
   "nbconvert_exporter": "python",
   "pygments_lexer": "ipython3",
   "version": "3.5.5"
  }
 },
 "nbformat": 4,
 "nbformat_minor": 2
}
