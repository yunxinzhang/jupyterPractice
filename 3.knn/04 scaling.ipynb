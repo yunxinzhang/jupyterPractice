{
 "cells": [
  {
   "cell_type": "markdown",
   "metadata": {},
   "source": [
    "# normalization 有明显的边界，而且分布合适"
   ]
  },
  {
   "cell_type": "code",
   "execution_count": 1,
   "metadata": {},
   "outputs": [],
   "source": [
    "import numpy as np"
   ]
  },
  {
   "cell_type": "code",
   "execution_count": 10,
   "metadata": {},
   "outputs": [
    {
     "data": {
      "text/plain": [
       "array([12,  1, 14,  6,  0,  6,  7, 17, 17,  5, 11, 19,  1, 12, 12,  7,  3,\n",
       "        3, 19,  3])"
      ]
     },
     "execution_count": 10,
     "metadata": {},
     "output_type": "execute_result"
    }
   ],
   "source": [
    "x = np.random.randint(0, 20, 20)\n",
    "x"
   ]
  },
  {
   "cell_type": "code",
   "execution_count": 12,
   "metadata": {},
   "outputs": [
    {
     "data": {
      "text/plain": [
       "19"
      ]
     },
     "execution_count": 12,
     "metadata": {},
     "output_type": "execute_result"
    }
   ],
   "source": [
    "maxval = np.max(x)\n",
    "maxval"
   ]
  },
  {
   "cell_type": "code",
   "execution_count": 13,
   "metadata": {},
   "outputs": [
    {
     "data": {
      "text/plain": [
       "0"
      ]
     },
     "execution_count": 13,
     "metadata": {},
     "output_type": "execute_result"
    }
   ],
   "source": [
    "minval = np.min(x)\n",
    "minval"
   ]
  },
  {
   "cell_type": "code",
   "execution_count": 16,
   "metadata": {},
   "outputs": [
    {
     "data": {
      "text/plain": [
       "[0.631578947368421,\n",
       " 0.05263157894736842,\n",
       " 0.7368421052631579,\n",
       " 0.3157894736842105,\n",
       " 0.0,\n",
       " 0.3157894736842105,\n",
       " 0.3684210526315789,\n",
       " 0.8947368421052632,\n",
       " 0.8947368421052632,\n",
       " 0.2631578947368421,\n",
       " 0.5789473684210527,\n",
       " 1.0,\n",
       " 0.05263157894736842,\n",
       " 0.631578947368421,\n",
       " 0.631578947368421,\n",
       " 0.3684210526315789,\n",
       " 0.15789473684210525,\n",
       " 0.15789473684210525,\n",
       " 1.0,\n",
       " 0.15789473684210525]"
      ]
     },
     "execution_count": 16,
     "metadata": {},
     "output_type": "execute_result"
    }
   ],
   "source": [
    "y = [(it-minval)/(maxval-minval) for it in x]\n",
    "y"
   ]
  },
  {
   "cell_type": "markdown",
   "metadata": {},
   "source": [
    "# standardization 不受异常值影响，和平均值关系紧密"
   ]
  },
  {
   "cell_type": "code",
   "execution_count": 17,
   "metadata": {},
   "outputs": [
    {
     "data": {
      "text/plain": [
       "8.75"
      ]
     },
     "execution_count": 17,
     "metadata": {},
     "output_type": "execute_result"
    }
   ],
   "source": [
    "meanval = np.mean(x)\n",
    "meanval"
   ]
  },
  {
   "cell_type": "code",
   "execution_count": 20,
   "metadata": {},
   "outputs": [
    {
     "data": {
      "text/plain": [
       "6.089950738717022"
      ]
     },
     "execution_count": 20,
     "metadata": {},
     "output_type": "execute_result"
    }
   ],
   "source": [
    "devval = np.std(x)\n",
    "devval"
   ]
  },
  {
   "cell_type": "code",
   "execution_count": 22,
   "metadata": {},
   "outputs": [
    {
     "data": {
      "text/plain": [
       "[0.5336660573193212,\n",
       " -1.2725882905306887,\n",
       " 0.8620759387465956,\n",
       " -0.4515635869625025,\n",
       " -1.4367932312443261,\n",
       " -0.4515635869625025,\n",
       " -0.2873586462488652,\n",
       " 1.3546907608875074,\n",
       " 1.3546907608875074,\n",
       " -0.6157685276761398,\n",
       " 0.3694611166056838,\n",
       " 1.6831006423147818,\n",
       " -1.2725882905306887,\n",
       " 0.5336660573193212,\n",
       " 0.5336660573193212,\n",
       " -0.2873586462488652,\n",
       " -0.9441784091034142,\n",
       " -0.9441784091034142,\n",
       " 1.6831006423147818,\n",
       " -0.9441784091034142]"
      ]
     },
     "execution_count": 22,
     "metadata": {},
     "output_type": "execute_result"
    }
   ],
   "source": [
    "z = [(it - meanval) / devval for it in x]\n",
    "z"
   ]
  }
 ],
 "metadata": {
  "kernelspec": {
   "display_name": "Python 3",
   "language": "python",
   "name": "python3"
  },
  "language_info": {
   "codemirror_mode": {
    "name": "ipython",
    "version": 3
   },
   "file_extension": ".py",
   "mimetype": "text/x-python",
   "name": "python",
   "nbconvert_exporter": "python",
   "pygments_lexer": "ipython3",
   "version": "3.5.5"
  }
 },
 "nbformat": 4,
 "nbformat_minor": 2
}
