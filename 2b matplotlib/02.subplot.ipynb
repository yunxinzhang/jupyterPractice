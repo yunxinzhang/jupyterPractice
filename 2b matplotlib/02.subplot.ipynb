{
 "cells": [
  {
   "cell_type": "code",
   "execution_count": 1,
   "metadata": {},
   "outputs": [],
   "source": [
    "import numpy as np\n",
    "import matplotlib.pyplot as plt"
   ]
  },
  {
   "cell_type": "code",
   "execution_count": 3,
   "metadata": {},
   "outputs": [],
   "source": [
    "x = np.linspace(0,np.pi*4, num = 200)"
   ]
  },
  {
   "cell_type": "code",
   "execution_count": 5,
   "metadata": {},
   "outputs": [],
   "source": [
    "y1 = np.sin(x)\n",
    "y2 = np.cos(x)"
   ]
  },
  {
   "cell_type": "code",
   "execution_count": 19,
   "metadata": {},
   "outputs": [
    {
     "data": {
      "text/plain": [
       "<matplotlib.legend.Legend at 0x236d71c65c0>"
      ]
     },
     "execution_count": 19,
     "metadata": {},
     "output_type": "execute_result"
    },
    {
     "data": {
      "image/png": "[encoded data removed]",
      "text/plain": [
       "<Figure size 432x288 with 2 Axes>"
      ]
     },
     "metadata": {},
     "output_type": "display_data"
    }
   ],
   "source": [
    "plt.subplot(2,1,1)                # 第三个参数表示第几个，从 1 开始\n",
    "plt.plot(x,y1,\"r.\", label=\"sin\")  # 需要分别设置\n",
    "plt.legend()                      # 需要调用 legend 来显示 label\n",
    "plt.subplot(2,1,2)\n",
    "plt.plot(x,y2,\"b--\", label=\"cos\")\n",
    "plt.legend()"
   ]
  },
  {
   "cell_type": "code",
   "execution_count": 9,
   "metadata": {},
   "outputs": [
    {
     "name": "stdout",
     "output_type": "stream",
     "text": [
      " 驱动器 C 中的卷是 Windows\n",
      " 卷的序列号是 8A7F-45D9\n",
      "\n",
      " C:\\Users\\zyx\\jupyterWorkspace\\2b matplotlib 的目录\n",
      "\n",
      "2018/07/25  10:56    <DIR>          .\n",
      "2018/07/25  10:56    <DIR>          ..\n",
      "2018/07/25  10:32    <DIR>          .ipynb_checkpoints\n",
      "2018/07/18  14:31           166,694 01.plt.ipynb\n",
      "2018/07/25  10:56            19,168 02.subplot.ipynb\n",
      "2018/07/25  10:36                 0 新建文本文档.txt\n",
      "               3 个文件        185,862 字节\n",
      "               3 个目录 54,181,953,536 可用字节\n"
     ]
    }
   ],
   "source": [
    "!dir"
   ]
  },
  {
   "cell_type": "code",
   "execution_count": null,
   "metadata": {},
   "outputs": [],
   "source": []
  }
 ],
 "metadata": {
  "kernelspec": {
   "display_name": "Python 3",
   "language": "python",
   "name": "python3"
  },
  "language_info": {
   "codemirror_mode": {
    "name": "ipython",
    "version": 3
   },
   "file_extension": ".py",
   "mimetype": "text/x-python",
   "name": "python",
   "nbconvert_exporter": "python",
   "pygments_lexer": "ipython3",
   "version": "3.5.5"
  }
 },
 "nbformat": 4,
 "nbformat_minor": 2
}
